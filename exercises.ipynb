{
 "cells": [
  {
   "cell_type": "code",
   "execution_count": null,
   "metadata": {},
   "outputs": [],
   "source": [
    "# TODO: begin researching filtering methods to dynamically display what exercise should be completed next"
   ]
  },
  {
   "cell_type": "markdown",
   "metadata": {},
   "source": [
    "## Exercise Database filtering"
   ]
  },
  {
   "cell_type": "markdown",
   "metadata": {},
   "source": [
    "#### Loading Libraries and Dataset"
   ]
  },
  {
   "cell_type": "code",
   "execution_count": null,
   "metadata": {},
   "outputs": [],
   "source": [
    "# IMPORTS\n",
    "import pandas as pd"
   ]
  },
  {
   "cell_type": "code",
   "execution_count": null,
   "metadata": {},
   "outputs": [],
   "source": [
    "df_path = \"./data/megaGymDataset.csv\"\n",
    "gym_df = pd.read_csv(df_path)"
   ]
  },
  {
   "cell_type": "markdown",
   "metadata": {},
   "source": [
    "#### Exploratory Data Analysis\n",
    "- Here we are going to be doing a number of things\n",
    "    - Individualizing each column in the df's in case of any future calculations\n",
    "    - Individualizing df's for each muscle group being targeted\n",
    "    - Sorting df\n",
    "    - Cleaning df\n",
    "    - Getting descriptive statistics"
   ]
  },
  {
   "cell_type": "code",
   "execution_count": null,
   "metadata": {},
   "outputs": [],
   "source": [
    "# Looking at Dataset\n",
    "gym_df"
   ]
  },
  {
   "cell_type": "code",
   "execution_count": null,
   "metadata": {},
   "outputs": [],
   "source": [
    "# Printing all exercise names\n",
    "index = 1\n",
    "exercises = gym_df['Title'].unique().tolist()\n",
    "for exercise in exercises:\n",
    "    print(\"Exercise number\", index, \": \", exercise)\n",
    "    index += 1\n"
   ]
  },
  {
   "cell_type": "code",
   "execution_count": null,
   "metadata": {},
   "outputs": [],
   "source": [
    "# Individualizing each column and storing into a list\n",
    "\n",
    "description = gym_df['Desc']\n",
    "exercise_type = gym_df['Type'].unique().tolist()\n",
    "muscle_group = gym_df['BodyPart'].unique().tolist()\n",
    "equipment = gym_df['Equipment'].unique().tolist()\n",
    "level = gym_df['Level'].unique().tolist()\n",
    "rating = gym_df['Rating'].unique().tolist()\n",
    "\n",
    "print(description)\n",
    "print(exercise_type)\n",
    "print(muscle_group)\n",
    "print(equipment)\n",
    "print(level)\n",
    "print(rating)"
   ]
  },
  {
   "cell_type": "code",
   "execution_count": null,
   "metadata": {},
   "outputs": [],
   "source": [
    "# Getting all attributes\n",
    "attributes = gym_df.columns.tolist()\n",
    "\n",
    "# Print attributes\n",
    "for attribute in attributes:\n",
    "    print(attribute)"
   ]
  },
  {
   "cell_type": "code",
   "execution_count": null,
   "metadata": {},
   "outputs": [],
   "source": [
    "# Printing All muscle groups\n",
    "for muscle in muscle_group:\n",
    "    print(muscle)"
   ]
  },
  {
   "cell_type": "code",
   "execution_count": null,
   "metadata": {},
   "outputs": [],
   "source": [
    "# Sorting by rating and title\n",
    "gym_df = gym_df.sort_values(by=['Rating', 'Title'], ascending=[False, True], na_position='last')\n"
   ]
  },
  {
   "cell_type": "code",
   "execution_count": null,
   "metadata": {},
   "outputs": [],
   "source": [
    "# Creating DF for each specific exercise\n",
    "abs_exercises_df = gym_df[gym_df['BodyPart'] == 'Abdominals']\n",
    "add_exercises_df = gym_df[gym_df['BodyPart'] == 'Adductors']\n",
    "abd_exercises_df = gym_df[gym_df['BodyPart'] == 'Abductors']\n",
    "bicep_exercises_df = gym_df[gym_df['BodyPart'] == 'Biceps']\n",
    "calves_exercises_df = gym_df[gym_df['BodyPart'] == 'Calves']\n",
    "chest_exercises_df = gym_df[gym_df['BodyPart'] == 'Chest']\n",
    "fa_exercises_df = gym_df[gym_df['BodyPart'] == 'Forearms']\n",
    "glutes_exercises_df = gym_df[gym_df['BodyPart'] == 'Glutes']\n",
    "hamstrings_exercises_df = gym_df[gym_df['BodyPart'] == 'Hamstrings']\n",
    "lats_exercises_df = gym_df[gym_df['BodyPart'] == 'Lats']\n",
    "lb_exercises_df = gym_df[gym_df['BodyPart'] == 'Lower Back']\n",
    "mb_exercises_df = gym_df[gym_df['BodyPart'] == 'Middle Back']\n",
    "traps_exercises_df = gym_df[gym_df['BodyPart'] == 'Traps']\n",
    "neck_exercises_df = gym_df[gym_df['BodyPart'] == 'Neck']\n",
    "quads_exercises_df = gym_df[gym_df['BodyPart'] == 'Quadriceps']\n",
    "shoulders_exercises_df = gym_df[gym_df['BodyPart'] == 'Shoulders']\n",
    "tricep_exercises_df = gym_df[gym_df['BodyPart'] == 'Triceps']\n",
    "\n",
    "# Printing all exercises that target the triceps to see results\n",
    "tricep_exercises_df\n"
   ]
  }
 ],
 "metadata": {
  "kernelspec": {
   "display_name": "Python 3",
   "language": "python",
   "name": "python3"
  },
  "language_info": {
   "codemirror_mode": {
    "name": "ipython",
    "version": 3
   },
   "file_extension": ".py",
   "mimetype": "text/x-python",
   "name": "python",
   "nbconvert_exporter": "python",
   "pygments_lexer": "ipython3",
   "version": "3.11.6"
  }
 },
 "nbformat": 4,
 "nbformat_minor": 2
}
